{
 "cells": [
  {
   "cell_type": "code",
   "execution_count": 1,
   "metadata": {
    "collapsed": true
   },
   "outputs": [],
   "source": [
    "source('../common.r')"
   ]
  },
  {
   "cell_type": "code",
   "execution_count": 3,
   "metadata": {
    "collapsed": true
   },
   "outputs": [],
   "source": [
    "d <- data.rawmix(where=\"name like 'v0.28.1%' and nclients = 4 and duration = 30 and length = 4 and rate = 100\")\n",
    "d <- subset(d, commute_ratio == 0.5 & alpha == 0.6)"
   ]
  },
  {
   "cell_type": "code",
   "execution_count": null,
   "metadata": {
    "collapsed": true
   },
   "outputs": [],
   "source": [
    "sql(\"SELECT cc_ph, avg(throughput) FROM d WHERE nthreads = 96 GROUP BY cc_ph\")"
   ]
  },
  {
   "cell_type": "markdown",
   "metadata": {},
   "source": [
    "# Best Zipf"
   ]
  },
  {
   "cell_type": "code",
   "execution_count": 120,
   "metadata": {
    "collapsed": true
   },
   "outputs": [],
   "source": [
    "d <- data.rawmix(where=\"name like 'v0.28.1%' and nclients = 4 and duration = 30 and length = 4 and rate = 100 and timeout_scaling = 1000 and phase_limit = 100\")\n",
    "d$zipf <- num(d$alpha)\n",
    "d <- subset(d, commute_ratio == 0.5)"
   ]
  },
  {
   "cell_type": "code",
   "execution_count": 121,
   "metadata": {
    "collapsed": false
   },
   "outputs": [
    {
     "data": {
      "text/html": [
       "<ol class=list-inline>\n",
       "\t<li>'rw'</li>\n",
       "\t<li>'simple'</li>\n",
       "\t<li>'better'</li>\n",
       "</ol>\n"
      ],
      "text/latex": [
       "\\begin{enumerate*}\n",
       "\\item 'rw'\n",
       "\\item 'simple'\n",
       "\\item 'better'\n",
       "\\end{enumerate*}\n"
      ],
      "text/markdown": [
       "1. 'rw'\n",
       "2. 'simple'\n",
       "3. 'better'\n",
       "\n",
       "\n"
      ],
      "text/plain": [
       "[1] \"rw\"     \"simple\" \"better\""
      ]
     },
     "execution_count": 121,
     "metadata": {},
     "output_type": "execute_result"
    }
   ],
   "source": [
    "unique(d$ccmode)"
   ]
  },
  {
   "cell_type": "code",
   "execution_count": 122,
   "metadata": {
    "collapsed": false
   },
   "outputs": [],
   "source": [
    "d.mean <- ddply(d, .(nthreads,cc_ph,zipf,phasing,cc), summarize, throughput=mean(throughput))\n",
    "d.max <- ddply(d.mean, .(cc_ph,zipf), summarize, throughput=max(throughput))"
   ]
  },
  {
   "cell_type": "code",
   "execution_count": 125,
   "metadata": {
    "collapsed": false
   },
   "outputs": [
    {
     "data": {
      "text/html": [
       "0.824875286641203"
      ],
      "text/latex": [
       "0.824875286641203"
      ],
      "text/markdown": [
       "0.824875286641203"
      ],
      "text/plain": [
       "[1] 0.8248753"
      ]
     },
     "execution_count": 125,
     "metadata": {},
     "output_type": "execute_result"
    }
   ],
   "source": [
    "{\n",
    "  d.better <- subset(d.max, cc_ph == BETT+COMB+PH)\n",
    "  d.notxn  <- subset(d.max, cc_ph == NOTXN)\n",
    "  zipf.speedups <- d.better$throughput / d.notxn$throughput\n",
    "}\n",
    "mean(zipf.speedups)"
   ]
  },
  {
   "cell_type": "code",
   "execution_count": 23,
   "metadata": {
    "collapsed": false
   },
   "outputs": [
    {
     "data": {
      "text/html": [
       "<table>\n",
       "<thead><tr><th></th><th scope=col>zipf</th><th scope=col>cc_ph</th><th scope=col>throughput</th></tr></thead>\n",
       "<tbody>\n",
       "\t<tr><th scope=row>1</th><td>1.4</td><td>non-transactional</td><td>10924.37</td></tr>\n",
       "\t<tr><th scope=row>2</th><td>1.4</td><td>better boosting\n",
       " + combining\n",
       " + phasing</td><td>13555.6</td></tr>\n",
       "\t<tr><th scope=row>3</th><td>1.4</td><td>better boosting\n",
       " + phasing</td><td>6724.25</td></tr>\n",
       "\t<tr><th scope=row>4</th><td>1.4</td><td>boosting\n",
       " + combining\n",
       " + phasing</td><td>12459.71</td></tr>\n",
       "\t<tr><th scope=row>5</th><td>1.4</td><td>boosting\n",
       " + phasing</td><td>6542.957</td></tr>\n",
       "\t<tr><th scope=row>6</th><td>1.4</td><td>r/w locks\n",
       " + phasing</td><td>753.7955</td></tr>\n",
       "\t<tr><th scope=row>7</th><td>1.4</td><td>boosting\n",
       " + combining</td><td>449.0317</td></tr>\n",
       "\t<tr><th scope=row>8</th><td>1.4</td><td>boosting</td><td>1517.632</td></tr>\n",
       "\t<tr><th scope=row>9</th><td>1.4</td><td>better boosting\n",
       " + combining</td><td>12841.4</td></tr>\n",
       "\t<tr><th scope=row>10</th><td>1.4</td><td>better boosting</td><td>6668.132</td></tr>\n",
       "\t<tr><th scope=row>11</th><td>1.4</td><td>r/w locks\n",
       "(baseline)</td><td>277.5745</td></tr>\n",
       "</tbody>\n",
       "</table>\n"
      ],
      "text/latex": [
       "\\begin{tabular}{r|lll}\n",
       "  & zipf & cc_ph & throughput\\\\\n",
       "\\hline\n",
       "\t1 & 1.4 & non-transactional & 10924.37\\\\\n",
       "\t2 & 1.4 & better boosting\n",
       " + combining\n",
       " + phasing & 13555.6\\\\\n",
       "\t3 & 1.4 & better boosting\n",
       " + phasing & 6724.25\\\\\n",
       "\t4 & 1.4 & boosting\n",
       " + combining\n",
       " + phasing & 12459.71\\\\\n",
       "\t5 & 1.4 & boosting\n",
       " + phasing & 6542.957\\\\\n",
       "\t6 & 1.4 & r/w locks\n",
       " + phasing & 753.7955\\\\\n",
       "\t7 & 1.4 & boosting\n",
       " + combining & 449.0317\\\\\n",
       "\t8 & 1.4 & boosting & 1517.632\\\\\n",
       "\t9 & 1.4 & better boosting\n",
       " + combining & 12841.4\\\\\n",
       "\t10 & 1.4 & better boosting & 6668.132\\\\\n",
       "\t11 & 1.4 & r/w locks\n",
       "(baseline) & 277.5745\\\\\n",
       "\\end{tabular}\n"
      ],
      "text/plain": [
       "   zipf                                     cc_ph throughput\n",
       "1   1.4                         non-transactional 10924.3697\n",
       "2   1.4 better boosting\\n + combining\\n + phasing 13555.5997\n",
       "3   1.4               better boosting\\n + phasing  6724.2496\n",
       "4   1.4        boosting\\n + combining\\n + phasing 12459.7098\n",
       "5   1.4                      boosting\\n + phasing  6542.9569\n",
       "6   1.4                     r/w locks\\n + phasing   753.7955\n",
       "7   1.4                    boosting\\n + combining   449.0317\n",
       "8   1.4                                  boosting  1517.6318\n",
       "9   1.4             better boosting\\n + combining 12841.3980\n",
       "10  1.4                           better boosting  6668.1321\n",
       "11  1.4                     r/w locks\\n(baseline)   277.5745"
      ]
     },
     "execution_count": 23,
     "metadata": {},
     "output_type": "execute_result"
    }
   ],
   "source": [
    "q <- sql(\"SELECT zipf, cc_ph, throughput FROM `d.max` WHERE zipf = 1.4 ORDER BY zipf\")\n",
    "q"
   ]
  },
  {
   "cell_type": "markdown",
   "metadata": {},
   "source": [
    "## Speedups"
   ]
  },
  {
   "cell_type": "code",
   "execution_count": 56,
   "metadata": {
    "collapsed": true
   },
   "outputs": [],
   "source": [
    "speedups <- function(q) {\n",
    "    speedup.base <- q[q$cc_ph == BETT+COMB+PH,]$throughput / q[q$cc_ph == RW+BASE,]$throughput\n",
    "    speedup.nontxn <- q[q$cc_ph == BETT+COMB+PH,]$throughput / q[q$cc_ph == NOTXN,]$throughput\n",
    "    cat(\"speedup over baseline:          \" + round(speedup.base,2) + \"\\n\")\n",
    "    cat(\"speedup over non-transactional:  \" + round(speedup.nontxn,2) + \"\\n\")\n",
    "}"
   ]
  },
  {
   "cell_type": "code",
   "execution_count": 57,
   "metadata": {
    "collapsed": false
   },
   "outputs": [
    {
     "name": "stdout",
     "output_type": "stream",
     "text": [
      "speedup over baseline:          48.84\n",
      "speedup over non-transactional:  1.24\n"
     ]
    }
   ],
   "source": [
    "speedups(q)"
   ]
  },
  {
   "cell_type": "markdown",
   "metadata": {},
   "source": [
    "## Rawmix: Commute Ratio"
   ]
  },
  {
   "cell_type": "code",
   "execution_count": 101,
   "metadata": {
    "collapsed": false
   },
   "outputs": [
    {
     "data": {
      "text/html": [
       "<ol class=list-inline>\n",
       "\t<li>'off'</li>\n",
       "\t<li>'on'</li>\n",
       "</ol>\n"
      ],
      "text/latex": [
       "\\begin{enumerate*}\n",
       "\\item 'off'\n",
       "\\item 'on'\n",
       "\\end{enumerate*}\n"
      ],
      "text/markdown": [
       "1. 'off'\n",
       "2. 'on'\n",
       "\n",
       "\n"
      ],
      "text/plain": [
       "[1] \"off\" \"on\" "
      ]
     },
     "execution_count": 101,
     "metadata": {},
     "output_type": "execute_result"
    }
   ],
   "source": [
    "d <- data.rawmix(where=\"name like 'v0.28.1%' and nclients = 4 and duration = 30 and length = 4 and rate = 100\")\n",
    "levels(d$phasing)"
   ]
  },
  {
   "cell_type": "code",
   "execution_count": 97,
   "metadata": {
    "collapsed": false
   },
   "outputs": [],
   "source": [
    "{\n",
    "  d <- data.rawmix(where=\"name like 'v0.28.1%' and nclients = 4 and duration = 30 and length = 4 and rate = 100\")\n",
    "  d$zipf <- num(d$alpha)\n",
    "  d.mix <- subset(d, nkeys == 1000 & zipf == 0.6)\n",
    "  d <- subset(d.mix, select = c('rate', 'nthreads', 'cc_ph', 'cc', 'zipf', 'commute_ratio', 'phasing', 'timeout_scaling', 'throughput', 'op_timeouts'))\n",
    "  d.mean <- ddply(d, .(nthreads,cc_ph,commute_ratio,phasing,cc), summarize, throughput=mean(throughput))\n",
    "  d.max <- ddply(d.mean, .(cc_ph,phasing,cc,commute_ratio), summarize, throughput=max(throughput))\n",
    "  d.mix <<- d.max\n",
    "}"
   ]
  },
  {
   "cell_type": "code",
   "execution_count": 114,
   "metadata": {
    "collapsed": false
   },
   "outputs": [
    {
     "data": {
      "text/html": [
       "<ol class=list-inline>\n",
       "\t<li>0.783340906498509</li>\n",
       "\t<li>0.709396840688725</li>\n",
       "\t<li>0.67089355787269</li>\n",
       "\t<li>0.654116906325842</li>\n",
       "\t<li>0.635101078152901</li>\n",
       "\t<li>0.628001355790341</li>\n",
       "\t<li>0.622355034053277</li>\n",
       "\t<li>0.761029789374583</li>\n",
       "\t<li>0.711052396228468</li>\n",
       "\t<li>0.671859631089949</li>\n",
       "\t<li>0.652280020106225</li>\n",
       "\t<li>0.644961278091918</li>\n",
       "\t<li>0.623018618494854</li>\n",
       "\t<li>0.629706422282931</li>\n",
       "</ol>\n"
      ],
      "text/latex": [
       "\\begin{enumerate*}\n",
       "\\item 0.783340906498509\n",
       "\\item 0.709396840688725\n",
       "\\item 0.67089355787269\n",
       "\\item 0.654116906325842\n",
       "\\item 0.635101078152901\n",
       "\\item 0.628001355790341\n",
       "\\item 0.622355034053277\n",
       "\\item 0.761029789374583\n",
       "\\item 0.711052396228468\n",
       "\\item 0.671859631089949\n",
       "\\item 0.652280020106225\n",
       "\\item 0.644961278091918\n",
       "\\item 0.623018618494854\n",
       "\\item 0.629706422282931\n",
       "\\end{enumerate*}\n"
      ],
      "text/markdown": [
       "1. 0.783340906498509\n",
       "2. 0.709396840688725\n",
       "3. 0.67089355787269\n",
       "4. 0.654116906325842\n",
       "5. 0.635101078152901\n",
       "6. 0.628001355790341\n",
       "7. 0.622355034053277\n",
       "8. 0.761029789374583\n",
       "9. 0.711052396228468\n",
       "10. 0.671859631089949\n",
       "11. 0.652280020106225\n",
       "12. 0.644961278091918\n",
       "13. 0.623018618494854\n",
       "14. 0.629706422282931\n",
       "\n",
       "\n"
      ],
      "text/plain": [
       " [1] 0.7833409 0.7093968 0.6708936 0.6541169 0.6351011 0.6280014 0.6223550\n",
       " [8] 0.7610298 0.7110524 0.6718596 0.6522800 0.6449613 0.6230186 0.6297064"
      ]
     },
     "execution_count": 114,
     "metadata": {},
     "output_type": "execute_result"
    }
   ],
   "source": [
    "d.better <- subset(d.mix, cc_ph == BETT+COMB+PH)\n",
    "d.notxn  <- subset(d.mix, cc_ph == NOTXN)\n",
    "\n",
    "speedups <- d.better$throughput / d.notxn$throughput\n",
    "speedups"
   ]
  },
  {
   "cell_type": "code",
   "execution_count": 116,
   "metadata": {
    "collapsed": false
   },
   "outputs": [
    {
     "data": {
      "text/html": [
       "0.671222416789372"
      ],
      "text/latex": [
       "0.671222416789372"
      ],
      "text/markdown": [
       "0.671222416789372"
      ],
      "text/plain": [
       "[1] 0.6712224"
      ]
     },
     "execution_count": 116,
     "metadata": {},
     "output_type": "execute_result"
    }
   ],
   "source": [
    "mean(speedups)"
   ]
  },
  {
   "cell_type": "markdown",
   "metadata": {},
   "source": [
    "# Rubis"
   ]
  },
  {
   "cell_type": "code",
   "execution_count": 89,
   "metadata": {
    "collapsed": false
   },
   "outputs": [
    {
     "name": "stderr",
     "output_type": "stream",
     "text": [
      "The following `from` values were not present in `x`: better#0, better#1\n",
      "The following `from` values were not present in `x`: better#0, better#1\n",
      "The following `from` values were not present in `x`: better#0#on, better#1#on\n"
     ]
    }
   ],
   "source": [
    "{\n",
    "    d <- data.rubis(where=\"duration = 60 and name like 'v0.28.1%' and nthreads <= 96\")\n",
    "    d$workload <- revalue(d$mix, c(\n",
    "      'mixed'     = 'read-heavy',\n",
    "      'bid-heavy' = 'bid-heavy',\n",
    "      'no-browse' = 'mostly bid'\n",
    "    ))\n",
    "\n",
    "    d.rubis <<- subset(d, lambda == 20 & grepl('read-heavy|bid-heavy', workload))\n",
    "}"
   ]
  },
  {
   "cell_type": "code",
   "execution_count": 90,
   "metadata": {
    "collapsed": false
   },
   "outputs": [
    {
     "data": {
      "text/html": [
       "<table>\n",
       "<thead><tr><th></th><th scope=col>workload</th><th scope=col>cc_ph</th><th scope=col>throughput</th></tr></thead>\n",
       "<tbody>\n",
       "\t<tr><th scope=row>1</th><td>bid-heavy</td><td>boosting</td><td>12431.14</td></tr>\n",
       "\t<tr><th scope=row>2</th><td>bid-heavy</td><td>boosting\n",
       " + combining</td><td>13431.78</td></tr>\n",
       "\t<tr><th scope=row>3</th><td>bid-heavy</td><td>boosting\n",
       " + combining\n",
       " + phasing</td><td>13602.02</td></tr>\n",
       "\t<tr><th scope=row>4</th><td>bid-heavy</td><td>boosting\n",
       " + phasing</td><td>13212.98</td></tr>\n",
       "\t<tr><th scope=row>5</th><td>bid-heavy</td><td>r/w locks\n",
       " + phasing</td><td>10346.39</td></tr>\n",
       "\t<tr><th scope=row>6</th><td>bid-heavy</td><td>r/w locks\n",
       "(baseline)</td><td>198.8181</td></tr>\n",
       "\t<tr><th scope=row>7</th><td>read-heavy</td><td>boosting</td><td>13184.86</td></tr>\n",
       "\t<tr><th scope=row>8</th><td>read-heavy</td><td>boosting\n",
       " + combining</td><td>13486.95</td></tr>\n",
       "\t<tr><th scope=row>9</th><td>read-heavy</td><td>boosting\n",
       " + combining\n",
       " + phasing</td><td>13987.95</td></tr>\n",
       "\t<tr><th scope=row>10</th><td>read-heavy</td><td>boosting\n",
       " + phasing</td><td>13790.27</td></tr>\n",
       "\t<tr><th scope=row>11</th><td>read-heavy</td><td>r/w locks\n",
       " + phasing</td><td>12603.87</td></tr>\n",
       "\t<tr><th scope=row>12</th><td>read-heavy</td><td>r/w locks\n",
       "(baseline)</td><td>3843.883</td></tr>\n",
       "</tbody>\n",
       "</table>\n"
      ],
      "text/latex": [
       "\\begin{tabular}{r|lll}\n",
       "  & workload & cc_ph & throughput\\\\\n",
       "\\hline\n",
       "\t1 & bid-heavy & boosting & 12431.14\\\\\n",
       "\t2 & bid-heavy & boosting\n",
       " + combining & 13431.78\\\\\n",
       "\t3 & bid-heavy & boosting\n",
       " + combining\n",
       " + phasing & 13602.02\\\\\n",
       "\t4 & bid-heavy & boosting\n",
       " + phasing & 13212.98\\\\\n",
       "\t5 & bid-heavy & r/w locks\n",
       " + phasing & 10346.39\\\\\n",
       "\t6 & bid-heavy & r/w locks\n",
       "(baseline) & 198.8181\\\\\n",
       "\t7 & read-heavy & boosting & 13184.86\\\\\n",
       "\t8 & read-heavy & boosting\n",
       " + combining & 13486.95\\\\\n",
       "\t9 & read-heavy & boosting\n",
       " + combining\n",
       " + phasing & 13987.95\\\\\n",
       "\t10 & read-heavy & boosting\n",
       " + phasing & 13790.27\\\\\n",
       "\t11 & read-heavy & r/w locks\n",
       " + phasing & 12603.87\\\\\n",
       "\t12 & read-heavy & r/w locks\n",
       "(baseline) & 3843.883\\\\\n",
       "\\end{tabular}\n"
      ],
      "text/plain": [
       "     workload                              cc_ph throughput\n",
       "1   bid-heavy                           boosting 12431.1432\n",
       "2   bid-heavy             boosting\\n + combining 13431.7759\n",
       "3   bid-heavy boosting\\n + combining\\n + phasing 13602.0197\n",
       "4   bid-heavy               boosting\\n + phasing 13212.9782\n",
       "5   bid-heavy              r/w locks\\n + phasing 10346.3902\n",
       "6   bid-heavy              r/w locks\\n(baseline)   198.8181\n",
       "7  read-heavy                           boosting 13184.8643\n",
       "8  read-heavy             boosting\\n + combining 13486.9480\n",
       "9  read-heavy boosting\\n + combining\\n + phasing 13987.9464\n",
       "10 read-heavy               boosting\\n + phasing 13790.2685\n",
       "11 read-heavy              r/w locks\\n + phasing 12603.8715\n",
       "12 read-heavy              r/w locks\\n(baseline)  3843.8832"
      ]
     },
     "execution_count": 90,
     "metadata": {},
     "output_type": "execute_result"
    }
   ],
   "source": [
    "q.rubis <- sql(\"SELECT workload, cc_ph, avg(throughput) as throughput FROM `d.rubis` WHERE nthreads = 64 GROUP BY workload, cc_ph ORDER BY workload\")\n",
    "q.rubis"
   ]
  },
  {
   "cell_type": "code",
   "execution_count": 91,
   "metadata": {
    "collapsed": false
   },
   "outputs": [
    {
     "name": "stdout",
     "output_type": "stream",
     "text": [
      "bid-heavy  -> speedup over baseline: 68.41\n",
      "read-heavy -> speedup over baseline: 3.64\n"
     ]
    }
   ],
   "source": [
    "speedup <- function(q) {\n",
    "  speedup.base <- q[q$cc_ph == COMB+PH,]$throughput / q[q$cc_ph == RW+BASE,]$throughput\n",
    "  cat(\"speedup over baseline: \" + round(speedup.base,2) + \"\\n\")\n",
    "}\n",
    "\n",
    "cat(\"bid-heavy  -> \")\n",
    "speedup(subset(q.rubis, grepl('bid-heavy', workload)))\n",
    "\n",
    "cat(\"read-heavy -> \")\n",
    "speedup(subset(q.rubis, grepl('read-heavy', workload)))"
   ]
  },
  {
   "cell_type": "markdown",
   "metadata": {},
   "source": [
    "# Retwis"
   ]
  },
  {
   "cell_type": "code",
   "execution_count": 79,
   "metadata": {
    "collapsed": false
   },
   "outputs": [
    {
     "name": "stderr",
     "output_type": "stream",
     "text": [
      "The following `from` values were not present in `x`: better#0, better#1\n",
      "The following `from` values were not present in `x`: better#0, better#1\n",
      "The following `from` values were not present in `x`: better#0#off#0, better#1#off#0, better#0#on#0, better#1#on#0, rw#0#off#1\n",
      "The following `from` values were not present in `x`: simple:1\n",
      "The following `from` values were not present in `x`: geom_heavy, update_heavy\n"
     ]
    }
   ],
   "source": [
    "d.retwis <- data.retwis(where=\"name like '%v0.27.5%' and nclients = 2\")\n",
    "d.retwis <- subset(d.retwis, async == 0 & txn_failed < 20 & total_time > 60 & total_time < 65)"
   ]
  },
  {
   "cell_type": "code",
   "execution_count": 80,
   "metadata": {
    "collapsed": false
   },
   "outputs": [
    {
     "data": {
      "text/html": [
       "<ol class=list-inline>\n",
       "\t<li>post-heavy: ~45% (re)post</li>\n",
       "\t<li>read-heavy: ~14% (re)post</li>\n",
       "</ol>\n"
      ],
      "text/latex": [
       "\\begin{enumerate*}\n",
       "\\item post-heavy: ~45% (re)post\n",
       "\\item read-heavy: ~14% (re)post\n",
       "\\end{enumerate*}\n"
      ],
      "text/markdown": [
       "1. post-heavy: ~45% (re)post\n",
       "2. read-heavy: ~14% (re)post\n",
       "\n",
       "\n"
      ],
      "text/plain": [
       "[1] post-heavy: ~45% (re)post read-heavy: ~14% (re)post\n",
       "Levels: read-heavy: ~14% (re)post post-heavy: ~45% (re)post mixed"
      ]
     },
     "execution_count": 80,
     "metadata": {},
     "output_type": "execute_result"
    }
   ],
   "source": [
    "unique(d.retwis$workload)"
   ]
  },
  {
   "cell_type": "code",
   "execution_count": 81,
   "metadata": {
    "collapsed": false
   },
   "outputs": [
    {
     "data": {
      "text/html": [
       "<table>\n",
       "<thead><tr><th></th><th scope=col>workload</th><th scope=col>cc_ph</th><th scope=col>throughput</th></tr></thead>\n",
       "<tbody>\n",
       "\t<tr><th scope=row>1</th><td>post-heavy: ~45% (re)post</td><td>boosting\n",
       " + combining</td><td>2817.13</td></tr>\n",
       "\t<tr><th scope=row>2</th><td>post-heavy: ~45% (re)post</td><td>boosting\n",
       " + combining\n",
       " + phasing</td><td>8107.97</td></tr>\n",
       "\t<tr><th scope=row>3</th><td>post-heavy: ~45% (re)post</td><td>boosting\n",
       " + phasing</td><td>7967.313</td></tr>\n",
       "\t<tr><th scope=row>4</th><td>post-heavy: ~45% (re)post</td><td>r/w locks\n",
       " + phasing</td><td>1926.622</td></tr>\n",
       "\t<tr><th scope=row>5</th><td>read-heavy: ~14% (re)post</td><td>boosting</td><td>8745.935</td></tr>\n",
       "\t<tr><th scope=row>6</th><td>read-heavy: ~14% (re)post</td><td>boosting\n",
       " + combining</td><td>10530.22</td></tr>\n",
       "\t<tr><th scope=row>7</th><td>read-heavy: ~14% (re)post</td><td>boosting\n",
       " + combining\n",
       " + phasing</td><td>16393.15</td></tr>\n",
       "\t<tr><th scope=row>8</th><td>read-heavy: ~14% (re)post</td><td>boosting\n",
       " + phasing</td><td>15954.43</td></tr>\n",
       "\t<tr><th scope=row>9</th><td>read-heavy: ~14% (re)post</td><td>r/w locks\n",
       " + phasing</td><td>7536.04</td></tr>\n",
       "\t<tr><th scope=row>10</th><td>read-heavy: ~14% (re)post</td><td>r/w locks\n",
       "(baseline)</td><td>6467.136</td></tr>\n",
       "</tbody>\n",
       "</table>\n"
      ],
      "text/latex": [
       "\\begin{tabular}{r|lll}\n",
       "  & workload & cc_ph & throughput\\\\\n",
       "\\hline\n",
       "\t1 & post-heavy: ~45% (re)post & boosting\n",
       " + combining & 2817.13\\\\\n",
       "\t2 & post-heavy: ~45% (re)post & boosting\n",
       " + combining\n",
       " + phasing & 8107.97\\\\\n",
       "\t3 & post-heavy: ~45% (re)post & boosting\n",
       " + phasing & 7967.313\\\\\n",
       "\t4 & post-heavy: ~45% (re)post & r/w locks\n",
       " + phasing & 1926.622\\\\\n",
       "\t5 & read-heavy: ~14% (re)post & boosting & 8745.935\\\\\n",
       "\t6 & read-heavy: ~14% (re)post & boosting\n",
       " + combining & 10530.22\\\\\n",
       "\t7 & read-heavy: ~14% (re)post & boosting\n",
       " + combining\n",
       " + phasing & 16393.15\\\\\n",
       "\t8 & read-heavy: ~14% (re)post & boosting\n",
       " + phasing & 15954.43\\\\\n",
       "\t9 & read-heavy: ~14% (re)post & r/w locks\n",
       " + phasing & 7536.04\\\\\n",
       "\t10 & read-heavy: ~14% (re)post & r/w locks\n",
       "(baseline) & 6467.136\\\\\n",
       "\\end{tabular}\n"
      ],
      "text/plain": [
       "                    workload                              cc_ph throughput\n",
       "1  post-heavy: ~45% (re)post             boosting\\n + combining   2817.130\n",
       "2  post-heavy: ~45% (re)post boosting\\n + combining\\n + phasing   8107.970\n",
       "3  post-heavy: ~45% (re)post               boosting\\n + phasing   7967.313\n",
       "4  post-heavy: ~45% (re)post              r/w locks\\n + phasing   1926.622\n",
       "5  read-heavy: ~14% (re)post                           boosting   8745.935\n",
       "6  read-heavy: ~14% (re)post             boosting\\n + combining  10530.218\n",
       "7  read-heavy: ~14% (re)post boosting\\n + combining\\n + phasing  16393.154\n",
       "8  read-heavy: ~14% (re)post               boosting\\n + phasing  15954.428\n",
       "9  read-heavy: ~14% (re)post              r/w locks\\n + phasing   7536.040\n",
       "10 read-heavy: ~14% (re)post              r/w locks\\n(baseline)   6467.136"
      ]
     },
     "execution_count": 81,
     "metadata": {},
     "output_type": "execute_result"
    }
   ],
   "source": [
    "q.retwis <- sql(\"SELECT workload, cc_ph, avg(throughput) as throughput FROM `d.retwis` WHERE nthreads = 96 GROUP BY workload, cc_ph ORDER BY workload\")\n",
    "q.retwis"
   ]
  },
  {
   "cell_type": "code",
   "execution_count": 82,
   "metadata": {
    "collapsed": false
   },
   "outputs": [
    {
     "name": "stdout",
     "output_type": "stream",
     "text": [
      "post-heavy -> speedup over baseline: 4.21\n",
      "read-heavy -> speedup over baseline: 2.18\n"
     ]
    }
   ],
   "source": [
    "speedup <- function(q) {\n",
    "  r.best <- max(subset(q, grepl('boosting', cc_ph))$throughput)\n",
    "  r.base <- subset(q, cc_ph == RW+PH)$throughput\n",
    "  cat(\"speedup over baseline: \" + round(r.best / r.base, 2) + \"\\n\")\n",
    "}\n",
    "\n",
    "cat(\"post-heavy -> \")\n",
    "speedup(subset(q.retwis, grepl('post-heavy', workload)))\n",
    "\n",
    "cat(\"read-heavy -> \")\n",
    "speedup(subset(q.retwis, grepl('read-heavy', workload)))"
   ]
  }
 ],
 "metadata": {
  "kernelspec": {
   "display_name": "R",
   "language": "R",
   "name": "ir"
  },
  "language_info": {
   "codemirror_mode": "r",
   "file_extension": ".r",
   "mimetype": "text/x-r-source",
   "name": "R",
   "pygments_lexer": "r",
   "version": "3.2.2"
  }
 },
 "nbformat": 4,
 "nbformat_minor": 0
}
