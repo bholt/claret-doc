{
 "cells": [
  {
   "cell_type": "code",
   "execution_count": 1,
   "metadata": {
    "collapsed": true
   },
   "outputs": [],
   "source": [
    "source('../common.r')"
   ]
  },
  {
   "cell_type": "code",
   "execution_count": null,
   "metadata": {
    "collapsed": true
   },
   "outputs": [],
   "source": [
    "d <- data.rawmix(where=\"name like 'v0.28.1%' and nclients = 4 and duration = 30 and length = 4 and rate = 100\")\n",
    "d <- subset(d, commute_ratio == 0.5 & alpha == 0.6)"
   ]
  },
  {
   "cell_type": "code",
   "execution_count": null,
   "metadata": {
    "collapsed": true
   },
   "outputs": [],
   "source": [
    "sql(\"SELECT cc_ph, avg(throughput) FROM d WHERE nthreads = 96 GROUP BY cc_ph\")"
   ]
  },
  {
   "cell_type": "markdown",
   "metadata": {},
   "source": [
    "# Best Zipf"
   ]
  },
  {
   "cell_type": "code",
   "execution_count": 2,
   "metadata": {
    "collapsed": true
   },
   "outputs": [],
   "source": [
    "d <- data.rawmix(where=\"name like 'v0.28.1%' and nclients = 4 and duration = 30 and length = 4 and rate = 100 and timeout_scaling = 1000 and phase_limit = 100\")\n",
    "d$zipf <- num(d$alpha)\n",
    "d <- subset(d, commute_ratio == 0.5)"
   ]
  },
  {
   "cell_type": "code",
   "execution_count": null,
   "metadata": {
    "collapsed": false
   },
   "outputs": [],
   "source": [
    "unique(d$ccmode)"
   ]
  },
  {
   "cell_type": "code",
   "execution_count": 3,
   "metadata": {
    "collapsed": false
   },
   "outputs": [],
   "source": [
    "d.mean <- ddply(d, .(nthreads,cc_ph,zipf,phasing,cc), summarize, throughput=mean(throughput))\n",
    "d.max <- ddply(d.mean, .(cc_ph,zipf), summarize, throughput=max(throughput))"
   ]
  },
  {
   "cell_type": "code",
   "execution_count": 4,
   "metadata": {
    "collapsed": false
   },
   "outputs": [
    {
     "data": {
      "text/html": [
       "0.824875286641203"
      ],
      "text/latex": [
       "0.824875286641203"
      ],
      "text/markdown": [
       "0.824875286641203"
      ],
      "text/plain": [
       "[1] 0.8248753"
      ]
     },
     "execution_count": 4,
     "metadata": {},
     "output_type": "execute_result"
    }
   ],
   "source": [
    "{\n",
    "  d.better <- subset(d.max, cc_ph == BETT+COMB+PH)\n",
    "  d.notxn  <- subset(d.max, cc_ph == NOTXN)\n",
    "  zipf.speedups <- d.better$throughput / d.notxn$throughput\n",
    "}\n",
    "mean(zipf.speedups)"
   ]
  },
  {
   "cell_type": "code",
   "execution_count": 5,
   "metadata": {
    "collapsed": false
   },
   "outputs": [
    {
     "data": {
      "text/html": [
       "<table>\n",
       "<thead><tr><th></th><th scope=col>zipf</th><th scope=col>cc_ph</th><th scope=col>throughput</th></tr></thead>\n",
       "<tbody>\n",
       "\t<tr><th scope=row>1</th><td>1.4</td><td>without\n",
       "transactions</td><td>10924.37</td></tr>\n",
       "\t<tr><th scope=row>2</th><td>1.4</td><td>better boosting\n",
       " + combining\n",
       " + phasing</td><td>13555.6</td></tr>\n",
       "\t<tr><th scope=row>3</th><td>1.4</td><td>better boosting\n",
       " + phasing</td><td>6724.25</td></tr>\n",
       "\t<tr><th scope=row>4</th><td>1.4</td><td>boosting\n",
       " + combining\n",
       " + phasing</td><td>12459.71</td></tr>\n",
       "\t<tr><th scope=row>5</th><td>1.4</td><td>boosting\n",
       " + phasing</td><td>6542.957</td></tr>\n",
       "\t<tr><th scope=row>6</th><td>1.4</td><td>r/w locks\n",
       " + phasing</td><td>753.7955</td></tr>\n",
       "\t<tr><th scope=row>7</th><td>1.4</td><td>boosting\n",
       " + combining</td><td>449.0317</td></tr>\n",
       "\t<tr><th scope=row>8</th><td>1.4</td><td>boosting</td><td>1517.632</td></tr>\n",
       "\t<tr><th scope=row>9</th><td>1.4</td><td>better boosting\n",
       " + combining</td><td>12841.4</td></tr>\n",
       "\t<tr><th scope=row>10</th><td>1.4</td><td>better boosting</td><td>6668.132</td></tr>\n",
       "\t<tr><th scope=row>11</th><td>1.4</td><td>r/w locks\n",
       "(baseline)</td><td>277.5745</td></tr>\n",
       "</tbody>\n",
       "</table>\n"
      ],
      "text/latex": [
       "\\begin{tabular}{r|lll}\n",
       "  & zipf & cc_ph & throughput\\\\\n",
       "\\hline\n",
       "\t1 & 1.4 & without\n",
       "transactions & 10924.37\\\\\n",
       "\t2 & 1.4 & better boosting\n",
       " + combining\n",
       " + phasing & 13555.6\\\\\n",
       "\t3 & 1.4 & better boosting\n",
       " + phasing & 6724.25\\\\\n",
       "\t4 & 1.4 & boosting\n",
       " + combining\n",
       " + phasing & 12459.71\\\\\n",
       "\t5 & 1.4 & boosting\n",
       " + phasing & 6542.957\\\\\n",
       "\t6 & 1.4 & r/w locks\n",
       " + phasing & 753.7955\\\\\n",
       "\t7 & 1.4 & boosting\n",
       " + combining & 449.0317\\\\\n",
       "\t8 & 1.4 & boosting & 1517.632\\\\\n",
       "\t9 & 1.4 & better boosting\n",
       " + combining & 12841.4\\\\\n",
       "\t10 & 1.4 & better boosting & 6668.132\\\\\n",
       "\t11 & 1.4 & r/w locks\n",
       "(baseline) & 277.5745\\\\\n",
       "\\end{tabular}\n"
      ],
      "text/plain": [
       "   zipf                                     cc_ph throughput\n",
       "1   1.4                     without\\ntransactions 10924.3697\n",
       "2   1.4 better boosting\\n + combining\\n + phasing 13555.5997\n",
       "3   1.4               better boosting\\n + phasing  6724.2496\n",
       "4   1.4        boosting\\n + combining\\n + phasing 12459.7098\n",
       "5   1.4                      boosting\\n + phasing  6542.9569\n",
       "6   1.4                     r/w locks\\n + phasing   753.7955\n",
       "7   1.4                    boosting\\n + combining   449.0317\n",
       "8   1.4                                  boosting  1517.6318\n",
       "9   1.4             better boosting\\n + combining 12841.3980\n",
       "10  1.4                           better boosting  6668.1321\n",
       "11  1.4                     r/w locks\\n(baseline)   277.5745"
      ]
     },
     "execution_count": 5,
     "metadata": {},
     "output_type": "execute_result"
    }
   ],
   "source": [
    "q <- sql(\"SELECT zipf, cc_ph, throughput FROM `d.max` WHERE zipf = 1.4 ORDER BY zipf\")\n",
    "q"
   ]
  },
  {
   "cell_type": "markdown",
   "metadata": {},
   "source": [
    "## Speedups"
   ]
  },
  {
   "cell_type": "code",
   "execution_count": 6,
   "metadata": {
    "collapsed": true
   },
   "outputs": [],
   "source": [
    "speedups <- function(q) {\n",
    "    speedup.base <- q[q$cc_ph == BETT+COMB+PH,]$throughput / q[q$cc_ph == RW+BASE,]$throughput\n",
    "    speedup.nontxn <- q[q$cc_ph == BETT+COMB+PH,]$throughput / q[q$cc_ph == NOTXN,]$throughput\n",
    "    cat(\"speedup over baseline:          \" + round(speedup.base,2) + \"\\n\")\n",
    "    cat(\"speedup over non-transactional:  \" + round(speedup.nontxn,2) + \"\\n\")\n",
    "}"
   ]
  },
  {
   "cell_type": "code",
   "execution_count": 7,
   "metadata": {
    "collapsed": false
   },
   "outputs": [
    {
     "name": "stdout",
     "output_type": "stream",
     "text": [
      "speedup over baseline:          48.84\n",
      "speedup over non-transactional:  1.24\n"
     ]
    }
   ],
   "source": [
    "speedups(q)"
   ]
  },
  {
   "cell_type": "markdown",
   "metadata": {},
   "source": [
    "## Rawmix: Commute Ratio"
   ]
  },
  {
   "cell_type": "code",
   "execution_count": 8,
   "metadata": {
    "collapsed": false
   },
   "outputs": [
    {
     "data": {
      "text/html": [
       "<ol class=list-inline>\n",
       "\t<li>'off'</li>\n",
       "\t<li>'on'</li>\n",
       "</ol>\n"
      ],
      "text/latex": [
       "\\begin{enumerate*}\n",
       "\\item 'off'\n",
       "\\item 'on'\n",
       "\\end{enumerate*}\n"
      ],
      "text/markdown": [
       "1. 'off'\n",
       "2. 'on'\n",
       "\n",
       "\n"
      ],
      "text/plain": [
       "[1] \"off\" \"on\" "
      ]
     },
     "execution_count": 8,
     "metadata": {},
     "output_type": "execute_result"
    }
   ],
   "source": [
    "d <- data.rawmix(where=\"name like 'v0.28.1%' and nclients = 4 and duration = 30 and length = 4 and rate = 100\")\n",
    "levels(d$phasing)"
   ]
  },
  {
   "cell_type": "code",
   "execution_count": 9,
   "metadata": {
    "collapsed": false
   },
   "outputs": [],
   "source": [
    "{\n",
    "  d <- data.rawmix(where=\"name like 'v0.28.1%' and nclients = 4 and duration = 30 and length = 4 and rate = 100\")\n",
    "  d$zipf <- num(d$alpha)\n",
    "  d.mix <- subset(d, nkeys == 1000 & zipf == 0.6)\n",
    "  d <- subset(d.mix, select = c('rate', 'nthreads', 'cc_ph', 'cc', 'zipf', 'commute_ratio', 'phasing', 'timeout_scaling', 'throughput', 'op_timeouts'))\n",
    "  d.mean <- ddply(d, .(nthreads,cc_ph,commute_ratio,phasing,cc), summarize, throughput=mean(throughput))\n",
    "  d.max <- ddply(d.mean, .(cc_ph,phasing,cc,commute_ratio), summarize, throughput=max(throughput))\n",
    "  d.mix <<- d.max\n",
    "}"
   ]
  },
  {
   "cell_type": "code",
   "execution_count": 10,
   "metadata": {
    "collapsed": false
   },
   "outputs": [
    {
     "data": {
      "text/html": [
       "<ol class=list-inline>\n",
       "\t<li>0.783340906498509</li>\n",
       "\t<li>0.709396840688725</li>\n",
       "\t<li>0.67089355787269</li>\n",
       "\t<li>0.654116906325842</li>\n",
       "\t<li>0.635101078152901</li>\n",
       "\t<li>0.628001355790341</li>\n",
       "\t<li>0.622355034053277</li>\n",
       "\t<li>0.761029789374583</li>\n",
       "\t<li>0.711052396228468</li>\n",
       "\t<li>0.671859631089949</li>\n",
       "\t<li>0.652280020106225</li>\n",
       "\t<li>0.644961278091918</li>\n",
       "\t<li>0.623018618494854</li>\n",
       "\t<li>0.629706422282931</li>\n",
       "</ol>\n"
      ],
      "text/latex": [
       "\\begin{enumerate*}\n",
       "\\item 0.783340906498509\n",
       "\\item 0.709396840688725\n",
       "\\item 0.67089355787269\n",
       "\\item 0.654116906325842\n",
       "\\item 0.635101078152901\n",
       "\\item 0.628001355790341\n",
       "\\item 0.622355034053277\n",
       "\\item 0.761029789374583\n",
       "\\item 0.711052396228468\n",
       "\\item 0.671859631089949\n",
       "\\item 0.652280020106225\n",
       "\\item 0.644961278091918\n",
       "\\item 0.623018618494854\n",
       "\\item 0.629706422282931\n",
       "\\end{enumerate*}\n"
      ],
      "text/markdown": [
       "1. 0.783340906498509\n",
       "2. 0.709396840688725\n",
       "3. 0.67089355787269\n",
       "4. 0.654116906325842\n",
       "5. 0.635101078152901\n",
       "6. 0.628001355790341\n",
       "7. 0.622355034053277\n",
       "8. 0.761029789374583\n",
       "9. 0.711052396228468\n",
       "10. 0.671859631089949\n",
       "11. 0.652280020106225\n",
       "12. 0.644961278091918\n",
       "13. 0.623018618494854\n",
       "14. 0.629706422282931\n",
       "\n",
       "\n"
      ],
      "text/plain": [
       " [1] 0.7833409 0.7093968 0.6708936 0.6541169 0.6351011 0.6280014 0.6223550\n",
       " [8] 0.7610298 0.7110524 0.6718596 0.6522800 0.6449613 0.6230186 0.6297064"
      ]
     },
     "execution_count": 10,
     "metadata": {},
     "output_type": "execute_result"
    }
   ],
   "source": [
    "d.better <- subset(d.mix, cc_ph == BETT+COMB+PH)\n",
    "d.notxn  <- subset(d.mix, cc_ph == NOTXN)\n",
    "\n",
    "speedups <- d.better$throughput / d.notxn$throughput\n",
    "speedups"
   ]
  },
  {
   "cell_type": "code",
   "execution_count": 11,
   "metadata": {
    "collapsed": false
   },
   "outputs": [
    {
     "data": {
      "text/html": [
       "0.671222416789372"
      ],
      "text/latex": [
       "0.671222416789372"
      ],
      "text/markdown": [
       "0.671222416789372"
      ],
      "text/plain": [
       "[1] 0.6712224"
      ]
     },
     "execution_count": 11,
     "metadata": {},
     "output_type": "execute_result"
    }
   ],
   "source": [
    "mean(speedups)"
   ]
  },
  {
   "cell_type": "markdown",
   "metadata": {},
   "source": [
    "# Rubis"
   ]
  },
  {
   "cell_type": "code",
   "execution_count": 27,
   "metadata": {
    "collapsed": false
   },
   "outputs": [],
   "source": [
    "source('../common.r')"
   ]
  },
  {
   "cell_type": "code",
   "execution_count": 28,
   "metadata": {
    "collapsed": false
   },
   "outputs": [],
   "source": [
    "{\n",
    "    #d <- data.rubis(where=\"duration = 60 and name like 'v0.29%' and nthreads <= 96\")\n",
    "    d <- db.csv(file = 'rubis-tput-vs-lat.csv')\n",
    "    \n",
    "    d$workload <- revalue(d$mix, c(\n",
    "      'mixed'     = 'read-heavy',\n",
    "      'bid-heavy' = 'bid-heavy'\n",
    "    ))\n",
    "\n",
    "    d.rubis <<- subset(d, lambda == 20 & grepl('read-heavy|bid-heavy', workload))\n",
    "}"
   ]
  },
  {
   "cell_type": "code",
   "execution_count": 52,
   "metadata": {
    "collapsed": false
   },
   "outputs": [],
   "source": [
    "{\n",
    "    d.mean <- ddply(d.rubis, .(nthreads,cc_ph,workload,phasing,cc), summarize, throughput=mean(throughput))\n",
    "  d.max <- ddply(d.mean, .(cc_ph,phasing,cc,workload), summarize, throughput=max(throughput))\n",
    "  q.rubis <<- d.max\n",
    "}"
   ]
  },
  {
   "cell_type": "code",
   "execution_count": 53,
   "metadata": {
    "collapsed": false
   },
   "outputs": [
    {
     "data": {
      "text/html": [
       "<table>\n",
       "<thead><tr><th></th><th scope=col>cc_ph</th><th scope=col>phasing</th><th scope=col>cc</th><th scope=col>workload</th><th scope=col>throughput</th></tr></thead>\n",
       "<tbody>\n",
       "\t<tr><th scope=row>1</th><td>boosting\n",
       " + combining\n",
       " + phasing</td><td>on</td><td>boosting\n",
       " + combining</td><td>bid-heavy</td><td>14535.27</td></tr>\n",
       "\t<tr><th scope=row>2</th><td>boosting\n",
       " + combining\n",
       " + phasing</td><td>on</td><td>boosting\n",
       " + combining</td><td>read-heavy</td><td>15065.83</td></tr>\n",
       "\t<tr><th scope=row>3</th><td>boosting\n",
       " + phasing</td><td>on</td><td>boosting</td><td>bid-heavy</td><td>13956.6</td></tr>\n",
       "\t<tr><th scope=row>4</th><td>boosting\n",
       " + phasing</td><td>on</td><td>boosting</td><td>read-heavy</td><td>15023.43</td></tr>\n",
       "\t<tr><th scope=row>5</th><td>r/w locks\n",
       " + phasing</td><td>on</td><td>r/w locks</td><td>bid-heavy</td><td>8373.104</td></tr>\n",
       "\t<tr><th scope=row>6</th><td>r/w locks\n",
       " + phasing</td><td>on</td><td>r/w locks</td><td>read-heavy</td><td>14390.65</td></tr>\n",
       "\t<tr><th scope=row>7</th><td>boosting\n",
       " + combining</td><td>off</td><td>boosting\n",
       " + combining</td><td>bid-heavy</td><td>14444.97</td></tr>\n",
       "\t<tr><th scope=row>8</th><td>boosting\n",
       " + combining</td><td>off</td><td>boosting\n",
       " + combining</td><td>read-heavy</td><td>14881.67</td></tr>\n",
       "\t<tr><th scope=row>9</th><td>boosting</td><td>off</td><td>boosting</td><td>bid-heavy</td><td>13434.1</td></tr>\n",
       "\t<tr><th scope=row>10</th><td>boosting</td><td>off</td><td>boosting</td><td>read-heavy</td><td>14710.85</td></tr>\n",
       "\t<tr><th scope=row>11</th><td>r/w locks\n",
       "(baseline)</td><td>off</td><td>r/w locks</td><td>bid-heavy</td><td>3375.651</td></tr>\n",
       "\t<tr><th scope=row>12</th><td>r/w locks\n",
       "(baseline)</td><td>off</td><td>r/w locks</td><td>read-heavy</td><td>10493.61</td></tr>\n",
       "\t<tr><th scope=row>13</th><td>without\n",
       "transactions</td><td>off</td><td>r/w locks</td><td>bid-heavy</td><td>21311.55</td></tr>\n",
       "\t<tr><th scope=row>14</th><td>without\n",
       "transactions</td><td>off</td><td>r/w locks</td><td>read-heavy</td><td>20108.01</td></tr>\n",
       "</tbody>\n",
       "</table>\n"
      ],
      "text/latex": [
       "\\begin{tabular}{r|lllll}\n",
       "  & cc_ph & phasing & cc & workload & throughput\\\\\n",
       "\\hline\n",
       "\t1 & boosting\n",
       " + combining\n",
       " + phasing & on & boosting\n",
       " + combining & bid-heavy & 14535.27\\\\\n",
       "\t2 & boosting\n",
       " + combining\n",
       " + phasing & on & boosting\n",
       " + combining & read-heavy & 15065.83\\\\\n",
       "\t3 & boosting\n",
       " + phasing & on & boosting & bid-heavy & 13956.6\\\\\n",
       "\t4 & boosting\n",
       " + phasing & on & boosting & read-heavy & 15023.43\\\\\n",
       "\t5 & r/w locks\n",
       " + phasing & on & r/w locks & bid-heavy & 8373.104\\\\\n",
       "\t6 & r/w locks\n",
       " + phasing & on & r/w locks & read-heavy & 14390.65\\\\\n",
       "\t7 & boosting\n",
       " + combining & off & boosting\n",
       " + combining & bid-heavy & 14444.97\\\\\n",
       "\t8 & boosting\n",
       " + combining & off & boosting\n",
       " + combining & read-heavy & 14881.67\\\\\n",
       "\t9 & boosting & off & boosting & bid-heavy & 13434.1\\\\\n",
       "\t10 & boosting & off & boosting & read-heavy & 14710.85\\\\\n",
       "\t11 & r/w locks\n",
       "(baseline) & off & r/w locks & bid-heavy & 3375.651\\\\\n",
       "\t12 & r/w locks\n",
       "(baseline) & off & r/w locks & read-heavy & 10493.61\\\\\n",
       "\t13 & without\n",
       "transactions & off & r/w locks & bid-heavy & 21311.55\\\\\n",
       "\t14 & without\n",
       "transactions & off & r/w locks & read-heavy & 20108.01\\\\\n",
       "\\end{tabular}\n"
      ],
      "text/plain": [
       "                                cc_ph phasing                     cc   workload\n",
       "1  boosting\\n + combining\\n + phasing      on boosting\\n + combining  bid-heavy\n",
       "2  boosting\\n + combining\\n + phasing      on boosting\\n + combining read-heavy\n",
       "3                boosting\\n + phasing      on               boosting  bid-heavy\n",
       "4                boosting\\n + phasing      on               boosting read-heavy\n",
       "5               r/w locks\\n + phasing      on              r/w locks  bid-heavy\n",
       "6               r/w locks\\n + phasing      on              r/w locks read-heavy\n",
       "7              boosting\\n + combining     off boosting\\n + combining  bid-heavy\n",
       "8              boosting\\n + combining     off boosting\\n + combining read-heavy\n",
       "9                            boosting     off               boosting  bid-heavy\n",
       "10                           boosting     off               boosting read-heavy\n",
       "11              r/w locks\\n(baseline)     off              r/w locks  bid-heavy\n",
       "12              r/w locks\\n(baseline)     off              r/w locks read-heavy\n",
       "13              without\\ntransactions     off              r/w locks  bid-heavy\n",
       "14              without\\ntransactions     off              r/w locks read-heavy\n",
       "   throughput\n",
       "1   14535.271\n",
       "2   15065.826\n",
       "3   13956.600\n",
       "4   15023.431\n",
       "5    8373.104\n",
       "6   14390.650\n",
       "7   14444.967\n",
       "8   14881.669\n",
       "9   13434.100\n",
       "10  14710.855\n",
       "11   3375.651\n",
       "12  10493.608\n",
       "13  21311.547\n",
       "14  20108.011"
      ]
     },
     "execution_count": 53,
     "metadata": {},
     "output_type": "execute_result"
    }
   ],
   "source": [
    "q.rubis"
   ]
  },
  {
   "cell_type": "code",
   "execution_count": 54,
   "metadata": {
    "collapsed": false
   },
   "outputs": [
    {
     "name": "stdout",
     "output_type": "stream",
     "text": [
      "comb: 14535.2711379783\n",
      "base: 3375.6510676982\n"
     ]
    }
   ],
   "source": [
    "{ q <- subset(q.rubis, grepl('bid-heavy', workload))\n",
    "  cat(\"comb: \" + q[q$cc_ph == COMB+PH,]$throughput + \"\\n\")\n",
    "  cat(\"base: \" + q[q$cc_ph == RW+BASE,]$throughput + \"\\n\")\n",
    "}"
   ]
  },
  {
   "cell_type": "code",
   "execution_count": 55,
   "metadata": {
    "collapsed": false
   },
   "outputs": [
    {
     "name": "stdout",
     "output_type": "stream",
     "text": [
      "bid-heavy  -> \n",
      "  speedup over baseline:           4.31\n",
      "  speedup over non-transactional:  0.68\n",
      "read-heavy -> \n",
      "  speedup over baseline:           1.44\n",
      "  speedup over non-transactional:  0.75\n"
     ]
    }
   ],
   "source": [
    "speedup <- function(q) {\n",
    "  speedup.base <- q[q$cc_ph == COMB+PH,]$throughput / q[q$cc_ph == RW+BASE,]$throughput\n",
    "  speedup.nontxn <- q[q$cc_ph == COMB+PH,]$throughput / q[q$cc_ph == NOTXN,]$throughput\n",
    "  cat(\"  speedup over baseline:           \" + round(speedup.base,2) + \"\\n\")\n",
    "  cat(\"  speedup over non-transactional:  \" + round(speedup.nontxn,2) + \"\\n\")\n",
    "}\n",
    "\n",
    "cat(\"bid-heavy  -> \\n\")\n",
    "speedup(subset(q.rubis, grepl('bid-heavy', workload)))\n",
    "\n",
    "cat(\"read-heavy -> \\n\")\n",
    "speedup(subset(q.rubis, grepl('read-heavy', workload)))"
   ]
  },
  {
   "cell_type": "markdown",
   "metadata": {},
   "source": [
    "# Retwis"
   ]
  },
  {
   "cell_type": "code",
   "execution_count": 57,
   "metadata": {
    "collapsed": false
   },
   "outputs": [
    {
     "name": "stderr",
     "output_type": "stream",
     "text": [
      "The following `from` values were not present in `x`: better#0, better#1\n",
      "The following `from` values were not present in `x`: better#0, better#1\n",
      "The following `from` values were not present in `x`: better#0#off#0, better#1#off#0, better#0#on#0, better#1#on#0\n",
      "The following `from` values were not present in `x`: simple:1\n",
      "The following `from` values were not present in `x`: update_heavy\n"
     ]
    }
   ],
   "source": [
    "d.retwis <- data.retwis(where=\"(name like '%v0.30%' and nclients = 4)\")\n",
    "d.retwis <- subset(d.retwis, async == 0 & txn_failed < 200 & total_time > 60 & total_time < 65 & (phasing == 'on' | disable_txns == 1))"
   ]
  },
  {
   "cell_type": "code",
   "execution_count": null,
   "metadata": {
    "collapsed": false
   },
   "outputs": [],
   "source": [
    "unique(d.retwis$workload)"
   ]
  },
  {
   "cell_type": "code",
   "execution_count": 58,
   "metadata": {
    "collapsed": true
   },
   "outputs": [],
   "source": [
    "{\n",
    "  d.mean <- ddply(d.retwis, .(nthreads,cc_ph,workload,phasing,cc), summarize, throughput=mean(throughput))\n",
    "  d.max <- ddply(d.mean, .(cc_ph,phasing,cc,workload), summarize, throughput=max(throughput))\n",
    "  q.retwis <<- d.max\n",
    "}"
   ]
  },
  {
   "cell_type": "code",
   "execution_count": null,
   "metadata": {
    "collapsed": false
   },
   "outputs": [],
   "source": [
    "q.retwis <- sql(\"SELECT workload, cc_ph, avg(throughput) as throughput FROM `d.retwis` WHERE nthreads = 96 GROUP BY workload, cc_ph ORDER BY workload\")\n",
    "q.retwis"
   ]
  },
  {
   "cell_type": "code",
   "execution_count": 59,
   "metadata": {
    "collapsed": false
   },
   "outputs": [
    {
     "name": "stdout",
     "output_type": "stream",
     "text": [
      "post-heavy -> \n",
      "  speedup over baseline: 3.57\n",
      "  speedup over notxn:    0.82\n",
      "read-heavy -> \n",
      "  speedup over baseline: 0.96\n",
      "  speedup over notxn:    0.72\n"
     ]
    }
   ],
   "source": [
    "speedup <- function(q) {\n",
    "  r.best <- max(subset(q, grepl('boosting', cc_ph))$throughput)\n",
    "  r.notxn <- subset(q, cc_ph == NOTXN)$throughput\n",
    "  r.base <- subset(q, cc_ph == RW+PH)$throughput\n",
    "  cat(\"  speedup over baseline: \" + round(r.best / r.base, 2) + \"\\n\")\n",
    "  cat(\"  speedup over notxn:    \" + round(r.best / r.notxn, 2) + \"\\n\")\n",
    "}\n",
    "\n",
    "cat(\"post-heavy -> \\n\")\n",
    "speedup(subset(q.retwis, grepl('post-heavy', workload)))\n",
    "\n",
    "cat(\"read-heavy -> \\n\")\n",
    "speedup(subset(q.retwis, grepl('read-heavy', workload)))"
   ]
  },
  {
   "cell_type": "code",
   "execution_count": null,
   "metadata": {
    "collapsed": true
   },
   "outputs": [],
   "source": []
  }
 ],
 "metadata": {
  "kernelspec": {
   "display_name": "R",
   "language": "R",
   "name": "ir"
  },
  "language_info": {
   "codemirror_mode": "r",
   "file_extension": ".r",
   "mimetype": "text/x-r-source",
   "name": "R",
   "pygments_lexer": "r",
   "version": "3.2.2"
  }
 },
 "nbformat": 4,
 "nbformat_minor": 0
}
